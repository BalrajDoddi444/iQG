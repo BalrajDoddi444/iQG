{
 "cells": [
  {
   "cell_type": "code",
   "execution_count": 1,
   "metadata": {},
   "outputs": [],
   "source": [
    "import os\n",
    "from flask import Flask, render_template, url_for, json, request, redirect\n",
    "from bs4 import BeautifulSoup\n",
    "import requests\n",
    "import re\n",
    "import urllib.request as url"
   ]
  },
  {
   "cell_type": "code",
   "execution_count": 2,
   "metadata": {},
   "outputs": [],
   "source": [
    "# def wikiScrapping(id):\n",
    "#     sample_text = \"\"\n",
    "#     scraped_data = url.urlopen('https://en.wikipedia.org/wiki/'+id)\n",
    "#     article = scraped_data.read()\n",
    "\n",
    "#     parsed_article = bs(article,'lxml')\n",
    "#     paragraphs = parsed_article.find_all('p')\n",
    "\n",
    "#     for p in paragraphs:\n",
    "#             sample_text += p.text\n",
    "#     sample_text = re.sub(r'\\[[0-9]*\\]', ' ', sample_text)\n",
    "#     sample_text = re.sub(r'\\s+', ' ', sample_text)\n",
    "#     sample_text = re.sub(r'\\[[a-z]*\\]', ' ', sample_text)\n",
    "#     sample_text = re.sub(r'\\s+', ' ', sample_text)\n",
    "#     return paragraphs"
   ]
  },
  {
   "cell_type": "code",
   "execution_count": 3,
   "metadata": {},
   "outputs": [],
   "source": [
    "# wikiScrapping(\"Machine_Learning\")"
   ]
  },
  {
   "cell_type": "code",
   "execution_count": 4,
   "metadata": {},
   "outputs": [],
   "source": [
    "# scraped_data = requests.get('https://en.wikipedia.org/wiki/'+\"Linear_regression\")\n",
    "# soup = BeautifulSoup(scraped_data.text,\"html.parser\")"
   ]
  },
  {
   "cell_type": "code",
   "execution_count": 5,
   "metadata": {},
   "outputs": [],
   "source": [
    "# content = soup.find(class_='mw-body').find_all(['p'])\n",
    "# for x in content:\n",
    "#     print(x.text)"
   ]
  },
  {
   "cell_type": "code",
   "execution_count": 6,
   "metadata": {},
   "outputs": [],
   "source": [
    "links = [\n",
    "    \"https://en.wikipedia.org/wiki/Linear Regression\",\n",
    "    \"https://en.wikipedia.org/wiki/Artificial Intelligence\",\n",
    "    \"https://en.wikipedia.org/wiki/Machine Learning\",\n",
    "    \"https://en.wikipedia.org/wiki/K-nearest_neighbors_algorithme\",\n",
    "    \"https://en.wikipedia.org/wiki/Supervised_learning\",\n",
    "    \"https://en.wikipedia.org/wiki/Unsupervised_learning\",\n",
    "    \"https://en.wikipedia.org/wiki/Reinforcement Learning\",\n",
    "    \"https://en.wikipedia.org/wiki/Logistic_regression\",\n",
    "    \"https://en.wikipedia.org/wiki/Decision Tree\",\n",
    "    \"https://en.wikipedia.org/wiki/Naive_Bayes_classifier\",\n",
    "    \"https://en.wikipedia.org/wiki/K-means_clustering\",\n",
    "    \"https://en.wikipedia.org/wiki/Random Forest\",\n",
    "    \"https://en.wikipedia.org/wiki/Dimensionality_reduction\",\n",
    "    \"https://en.wikipedia.org/wiki/Gradient_boosting\",\n",
    "    \"https://en.wikipedia.org/wiki/Convolutional_neural_network\",\n",
    "    \"https://en.wikipedia.org/wiki/Recurrent_neural_network\",\n",
    "    \"https://en.wikipedia.org/wiki/Gradient_descent\",\n",
    "    \"https://en.wikipedia.org/wiki/Artificial_neural_network\",\n",
    "    \"https://en.wikipedia.org/wiki/Long_short-term_memory\",\n",
    "    \"https://en.wikipedia.org/wiki/Generative_adversarial_network\",\n",
    "    \"https://en.wikipedia.org/wiki/Support_vector_machine\"\n",
    "]\n",
    "req = [\n",
    "    \"\",\n",
    "    \"\",\n",
    "    \"\",\n",
    "    \"\",\n",
    "    \"\",\n",
    "    \"\",\n",
    "    \"\",\n",
    "    \"\",\n",
    "    \"\",\n",
    "    \"\",\n",
    "    \"\",\n",
    "    \"\",\n",
    "    \"\",\n",
    "    \"\",\n",
    "    \"\",\n",
    "    \"\",\n",
    "    \"\",\n",
    "    \"\",\n",
    "    \"\",\n",
    "    \"\",\n",
    "    \"\"\n",
    "]"
   ]
  },
  {
   "cell_type": "code",
   "execution_count": 6,
   "metadata": {},
   "outputs": [
    {
     "data": {
      "text/plain": [
       "21"
      ]
     },
     "execution_count": 6,
     "metadata": {},
     "output_type": "execute_result"
    }
   ],
   "source": [
    "len(req)"
   ]
  },
  {
   "cell_type": "code",
   "execution_count": 7,
   "metadata": {},
   "outputs": [
    {
     "ename": "NameError",
     "evalue": "name 'requests' is not defined",
     "output_type": "error",
     "traceback": [
      "\u001b[0;31m---------------------------------------------------------------------------\u001b[0m",
      "\u001b[0;31mNameError\u001b[0m                                 Traceback (most recent call last)",
      "\u001b[0;32m<ipython-input-7-26cdb323e285>\u001b[0m in \u001b[0;36m<module>\u001b[0;34m()\u001b[0m\n\u001b[1;32m      1\u001b[0m \u001b[1;32mfor\u001b[0m \u001b[0mi\u001b[0m \u001b[1;32min\u001b[0m \u001b[0mrange\u001b[0m\u001b[1;33m(\u001b[0m\u001b[1;36m21\u001b[0m\u001b[1;33m)\u001b[0m\u001b[1;33m:\u001b[0m\u001b[1;33m\u001b[0m\u001b[0m\n\u001b[0;32m----> 2\u001b[0;31m     \u001b[0mreq\u001b[0m\u001b[1;33m[\u001b[0m\u001b[0mi\u001b[0m\u001b[1;33m]\u001b[0m \u001b[1;33m=\u001b[0m \u001b[0mrequests\u001b[0m\u001b[1;33m.\u001b[0m\u001b[0mget\u001b[0m\u001b[1;33m(\u001b[0m\u001b[0mlinks\u001b[0m\u001b[1;33m[\u001b[0m\u001b[0mi\u001b[0m\u001b[1;33m]\u001b[0m\u001b[1;33m)\u001b[0m\u001b[1;33m\u001b[0m\u001b[0m\n\u001b[0m",
      "\u001b[0;31mNameError\u001b[0m: name 'requests' is not defined"
     ]
    }
   ],
   "source": [
    "for i in range(21):\n",
    "    req[i] = requests.get(links[i])"
   ]
  },
  {
   "cell_type": "code",
   "execution_count": null,
   "metadata": {
    "collapsed": true
   },
   "outputs": [],
   "source": [
    "soup = BeautifulSoup(req[i].text,\"html.parser\")"
   ]
  },
  {
   "cell_type": "code",
   "execution_count": null,
   "metadata": {},
   "outputs": [],
   "source": [
    "paragraphs = soup.find_all([\"p\",'span'])\n",
    "text = []\n",
    "for para in paragraphs:\n",
    "    para = para.text\n",
    "    para = re.sub(r'\\[[0-9]*\\]',' ',para)\n",
    "    para = re.sub(r\".*?\\{(.*?)\\}\", ' ', para)\n",
    "    para = re.sub(\"\\n\",\" \",para)\n",
    "    para = re.sub(r'\\s+',' ',para)\n",
    "    text.append(para)\n",
    "text"
   ]
  },
  {
   "cell_type": "code",
   "execution_count": null,
   "metadata": {
    "collapsed": true
   },
   "outputs": [],
   "source": []
  }
 ],
 "metadata": {
  "anaconda-cloud": {},
  "kernelspec": {
   "display_name": "Python 3",
   "language": "python",
   "name": "python3"
  },
  "language_info": {
   "codemirror_mode": {
    "name": "ipython",
    "version": 3
   },
   "file_extension": ".py",
   "mimetype": "text/x-python",
   "name": "python",
   "nbconvert_exporter": "python",
   "pygments_lexer": "ipython3",
   "version": "3.6.5"
  }
 },
 "nbformat": 4,
 "nbformat_minor": 1
}
